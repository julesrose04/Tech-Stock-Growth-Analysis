{
 "cells": [
  {
   "cell_type": "code",
   "execution_count": 1,
   "id": "363b853b-9974-4ddd-ab65-042f6873cbb3",
   "metadata": {},
   "outputs": [],
   "source": [
    "import pandas as pd\n",
    "import matplotlib.pyplot as plt\n",
    "import numpy as np\n",
    "from scipy.optimize import curve_fit\n",
    "from ipywidgets import interact, widgets, interactive"
   ]
  },
  {
   "cell_type": "markdown",
   "id": "59c08a74-699b-4c29-92ae-0cc4a288cdd5",
   "metadata": {},
   "source": [
    "**Modeling Exponential Stock Growth: Estimated Growth Rate Over Time**\n",
    "\n",
    "Presented by: Yany Martinez and Jules Perna\n",
    "\n"
   ]
  },
  {
   "cell_type": "markdown",
   "id": "1dcddb0d-1581-4d30-ad5c-4f8ec99a36cb",
   "metadata": {},
   "source": [
    "The goal of this project is to model the growth of major tech companies (Tesla, Apple, Nvidia, Amazon, Microsoft, EA) stock prices using exponential curve fitting with the `curve_fit` function in SciPy."
   ]
  },
  {
   "cell_type": "markdown",
   "id": "81f542d5-c423-4f2c-819e-b1886ab92f07",
   "metadata": {},
   "source": [
    "**What does curve fitting do?**\n",
    "\n",
    "Curve fitting is the process of finding the best parameters that make a function match a set of data points.\n",
    "\n",
    "The function we are using is the continuous compounding formula (Exponential Growth), the formula is as follows:\n",
    "\n",
    "$$\n",
    "A(t) = A_0 \\cdot e^{rt}\n",
    "$$\n",
    "\n",
    "Where, \n",
    "\n",
    "A = starting value (initial stock price)\n",
    "\n",
    "r = growth rate\n",
    "\n",
    "t = time (in days)"
   ]
  },
  {
   "cell_type": "markdown",
   "id": "ad731ca5-0675-4783-912f-5bbd853535c7",
   "metadata": {},
   "source": [
    "Within the SciPy library, there is a convenient function called `curve_fit` that can take any mathematical function and fit it to a dataset. This is similar to the polynomial fitting we did in class, but the difference is that we're not limited to polynomial functions. \n",
    "\n",
    "**`curve_fit` requires three inputs:**\n",
    "\n",
    "f = The model function you want to fit\n",
    "\n",
    "x = Independent variable (in our case a 1D array from 0-250 which represents the amount of days we have data for)\n",
    "\n",
    "y = Dependent variable (Stock prices)\n",
    "\n",
    "**`curve_fit` has two outputs:**\n",
    "\n",
    "popt = A NumPy array containing the best fit values for your models data\n",
    "\n",
    "[A, r]\n",
    "\n",
    "pcov = A 2D NumPy array that gives estimated uncertainty (we won't be covering this)"
   ]
  },
  {
   "cell_type": "code",
   "execution_count": 2,
   "id": "faba0255-79b4-4243-b01a-ed9bc7088a95",
   "metadata": {},
   "outputs": [],
   "source": [
    "df = pd.read_csv('stocks2.csv', dtype=float, usecols=['Tesla', 'Apple', 'Nvidia', 'Amazon', 'Microsoft', 'Electronic Arts'])"
   ]
  },
  {
   "cell_type": "code",
   "execution_count": 3,
   "id": "3b20793b-c353-459c-8e85-5f7fc3bab43e",
   "metadata": {},
   "outputs": [
    {
     "data": {
      "application/vnd.jupyter.widget-view+json": {
       "model_id": "0a24ab15e5ef464c82c4352590aebfab",
       "version_major": 2,
       "version_minor": 0
      },
      "text/plain": [
       "interactive(children=(Select(description='stockType', options=('Tesla', 'Apple', 'Nvidia', 'Amazon', 'Microsof…"
      ]
     },
     "metadata": {},
     "output_type": "display_data"
    }
   ],
   "source": [
    "t = 250\n",
    "def interest(t, A, r):\n",
    "    return A*np.exp(r*t)\n",
    "\n",
    "def stocks(stockType):\n",
    "    fig, ax = plt.subplots(figsize = (10, 5))\n",
    "    \n",
    "\n",
    "    \n",
    "    x = np.arange(0, 250, 1)\n",
    "    popt, pcov = curve_fit(interest, x, df[stockType], p0=(700, 0.001), bounds=([0, 0], [np.inf, np.inf]))\n",
    "    daysFit = np.linspace(0, t - 1, 300)\n",
    "    pricesFit = interest(daysFit, *popt)\n",
    "\n",
    "    initial = popt[0]\n",
    "    rate = popt[1]\n",
    "    \n",
    "    ax.plot(x, df[stockType], color = 'darkolivegreen')\n",
    "    \n",
    "    ax.plot(daysFit, pricesFit, color = 'purple')\n",
    "\n",
    "    ax.set_xlabel('Time (From March 2024 - March 2025)', fontname = 'Times New Roman', fontsize = 12)\n",
    "    ax.set_ylabel('Stock Value', fontname = 'Times New Roman', fontsize = 12)\n",
    "    ax.grid()\n",
    "    ax.set_title(f'The approximated growth rate over time is: {round(100*(rate), 2)}%', fontname = 'Times New Roman', fontsize = 12)\n",
    "    \n",
    "select = widgets.Select(options = ['Tesla', 'Apple', 'Nvidia', 'Amazon', 'Microsoft', 'Electronic Arts'])\n",
    "interactivePlot = interactive(stocks, stockType = select)\n",
    "display(interactivePlot)"
   ]
  },
  {
   "cell_type": "markdown",
   "id": "4e2c1655-9622-449d-b8df-dc2f3c0e6bff",
   "metadata": {},
   "source": [
    "## Stock Performance Analysis\n",
    "#### Calculate the 75th percentile of the 7 day log returns"
   ]
  },
  {
   "cell_type": "markdown",
   "id": "48bda86a-f8e1-4808-9f25-88d51cea7edb",
   "metadata": {},
   "source": [
    "Log returns are commonly used in finance because they are more accurate for compounding and are additive over time. In this part of the analysis We focused on analyzing the performance of each stock over short-term periods using logarithmic returns.\n",
    "\n",
    "$$\n",
    "\\text{Log Return}_t = \\ln\\left(\\frac{P_t}{P_{t-1}}\\right)\n",
    "$$\n",
    "\n",
    "This formula calculates the continuously compounded return from one day to the next.\n",
    "\n",
    "**First:** We use the daily log return, which measures the percent change in stock price from one day to the next using natural logarithms"
   ]
  },
  {
   "cell_type": "markdown",
   "id": "b108e2ba-8c54-40ea-861d-cd4f8a062a38",
   "metadata": {},
   "source": [
    "**Second:** We calculated 7-day rolling log returns, which means we looked at the total return over every 7-day period. This helps capture weekly performance trends.\n",
    "\n",
    "$$\n",
    "\\text{7-Day Log Return}_t = \\sum_{i=0}^{6} \\ln\\left(\\frac{P_{t-i}}{P_{t-i-1}}\\right)\n",
    "$$\n",
    "\n",
    "- This adds up 7 consecutive daily log returns, giving the total log return for the week ending on day \\( t \\).\n",
    "- \\( i \\): Index for each day in the 7-day window\n",
    "- The summation runs from \\( t-6 \\) to \\( t \\)\n",
    "\n",
    "This approach is exactly what `rolling(window=7).sum()` does in our code. It creates a rolling window object that slides a 7 row window across the data, on row at the time. At each step, it captures the current value and the previous values (total of 7). Then it apply th sum() operation to that window."
   ]
  },
  {
   "cell_type": "markdown",
   "id": "5da90ecf",
   "metadata": {},
   "source": [
    "#### **Simplified Formula**\n",
    "$$\n",
    "\\text{7-Day Log Return}_t = \\ln\\left(\\frac{P_t}{P_{t-7}}\\right)\n",
    "$$\n",
    "\n",
    "\n",
    "- This simplified formula gives the same result as summing 7 daily log returns.\n",
    "- It uses only the price at the start and end of the 7-day period.\n",
    "\n",
    "This version tells you the total percentage return (in log terms) between day \\( t-7 \\) and day \\( t \\)."
   ]
  },
  {
   "cell_type": "markdown",
   "id": "d6b68f12",
   "metadata": {},
   "source": [
    "**Finally:** We calculated the 75th percentile of these 7-day log returns for each stock. This tells us what a “strong performance week” looks like — the return that a stock exceeded only 25% of the time."
   ]
  },
  {
   "cell_type": "code",
   "execution_count": 4,
   "id": "f8a1921b",
   "metadata": {},
   "outputs": [
    {
     "data": {
      "application/vnd.jupyter.widget-view+json": {
       "model_id": "ef1bb298db8046a288edfd8337e0e96d",
       "version_major": 2,
       "version_minor": 0
      },
      "text/plain": [
       "interactive(children=(Dropdown(description='Window (days):', options=(7, 14, 21, 30, 60), value=7), Output()),…"
      ]
     },
     "metadata": {},
     "output_type": "display_data"
    }
   ],
   "source": [
    "# Function to calculate stocks performance acrross different weeks\n",
    "\n",
    "def stocksPerformance(window_size):\n",
    "\n",
    "    # Calculate the daily log return\n",
    "    logReturn = np.log(df / df.shift(1))\n",
    "\n",
    "    # Calculate 7-day rolling log return sums\n",
    "    logReturn7d = logReturn.rolling(window_size).sum()\n",
    "\n",
    "    # Calculate the 75th percentile for each stock\n",
    "    percentile_75 = logReturn7d.quantile(0.75)\n",
    "\n",
    "    # Plotting the 75th Percentile\n",
    "    plt.figure(figsize=(12, 7))\n",
    "    plt.bar(percentile_75.index, percentile_75.values, color='orange')\n",
    "    plt.title('7 Day Rolling Log Returns by Stocks')\n",
    "    plt.ylabel('Log Return')\n",
    "    plt.xlabel('Sotck')\n",
    "    plt.grid()\n",
    "\n",
    "\n",
    "#Create widget\n",
    "DaysOption = widgets.Dropdown(\n",
    "    options=[7, 14, 21, 30, 60],\n",
    "    value=7,\n",
    "    description='Window (days):'\n",
    ")\n",
    "\n",
    "#DaysOption = widgets.IntSlider(value=7, min=3, max=30, step=1, description='Window (days):')\n",
    "\n",
    "# Combine into interactive display\n",
    "interactivePlot = interactive(stocksPerformance, window_size=DaysOption)\n",
    "display(interactivePlot)\n"
   ]
  },
  {
   "cell_type": "markdown",
   "id": "64e2a16e",
   "metadata": {},
   "source": [
    "The first row of daily log returns is NaN because there is no previous day to compare against.\n",
    "The first 6 rows of 7-day log returns are also NaN because we need a full 7-day window before a valid result can be calculated."
   ]
  },
  {
   "cell_type": "code",
   "execution_count": null,
   "id": "4b07c084",
   "metadata": {},
   "outputs": [],
   "source": []
  },
  {
   "cell_type": "markdown",
   "id": "d1b2d483",
   "metadata": {},
   "source": [
    "**Observation:** Nvidia had the highest 75th percentile among the stocks, meaning that during its better weeks, it tended to outperform the others. This suggests Nvidia had more aggressive growth in high-return weeks compared to other companies in the dataset."
   ]
  },
  {
   "cell_type": "code",
   "execution_count": null,
   "id": "eca8ea10",
   "metadata": {},
   "outputs": [],
   "source": []
  }
 ],
 "metadata": {
  "kernelspec": {
   "display_name": "widgets",
   "language": "python",
   "name": "python3"
  },
  "language_info": {
   "codemirror_mode": {
    "name": "ipython",
    "version": 3
   },
   "file_extension": ".py",
   "mimetype": "text/x-python",
   "name": "python",
   "nbconvert_exporter": "python",
   "pygments_lexer": "ipython3",
   "version": "3.12.8"
  }
 },
 "nbformat": 4,
 "nbformat_minor": 5
}

{
 "cells": [
  {
   "cell_type": "code",
   "execution_count": 1,
   "id": "363b853b-9974-4ddd-ab65-042f6873cbb3",
   "metadata": {},
   "outputs": [],
   "source": [
    "import pandas as pd\n",
    "import matplotlib.pyplot as plt\n",
    "import numpy as np\n",
    "from scipy.optimize import curve_fit\n",
    "from ipywidgets import interact, widgets, interactive"
   ]
  },
  {
   "cell_type": "markdown",
   "id": "59c08a74-699b-4c29-92ae-0cc4a288cdd5",
   "metadata": {},
   "source": [
    "**Modeling Exponential Stock Growth: Estimated Growth Rate Over Time**\n",
    "\n",
    "Presented by: Yany Martinez and Jules Perna\n",
    "\n"
   ]
  },
  {
   "cell_type": "markdown",
   "id": "1dcddb0d-1581-4d30-ad5c-4f8ec99a36cb",
   "metadata": {},
   "source": [
    "The goal of this project is to model the growth of major tech companies (Tesla, Apple, Nvidia, Amazon, Microsoft, EA) stock prices using exponential curve fitting with the `curve_fit` function in SciPy."
   ]
  },
  {
   "cell_type": "markdown",
   "id": "81f542d5-c423-4f2c-819e-b1886ab92f07",
   "metadata": {},
   "source": [
    "**What does curve fitting do?**\n",
    "\n",
    "Curve fitting is the process of finding the best parameters that make a function match a set of data points.\n",
    "\n",
    "The function we are using is the continuous compounding formula (Exponential Growth), the formula is as follows:\n",
    "\n",
    "$$\n",
    "A(t) = A_0 \\cdot e^{rt}\n",
    "$$\n",
    "\n",
    "Where, \n",
    "\n",
    "A = starting value (initial stock price)\n",
    "\n",
    "r = growth rate\n",
    "\n",
    "t = time (in days)"
   ]
  },
  {
   "cell_type": "markdown",
   "id": "ad731ca5-0675-4783-912f-5bbd853535c7",
   "metadata": {},
   "source": [
    "Within the SciPy library, there is a convenient function called `curve_fit` that can take any mathematical function and fit it to a dataset. This is similar to the polynomial fitting we did in class, but the difference is that we're not limited to polynomial functions. \n",
    "\n",
    "**`curve_fit` requires three inputs:**\n",
    "\n",
    "f = The model function you want to fit\n",
    "\n",
    "x = Independent variable (in our case a 1D array from 0-250 which represents the amount of days we have data for)\n",
    "\n",
    "y = Dependent variable (Stock prices)\n",
    "\n",
    "**`curve_fit` has two outputs:**\n",
    "\n",
    "popt = A NumPy array containing the best fit values for your models data\n",
    "\n",
    "[A, r]\n",
    "\n",
    "pcov = A 2D NumPy array that gives estimated uncertainty (we won't be covering this)"
   ]
  },
  {
   "cell_type": "code",
   "execution_count": 2,
   "id": "faba0255-79b4-4243-b01a-ed9bc7088a95",
   "metadata": {},
   "outputs": [],
   "source": [
    "df = pd.read_csv('stocks2.csv', dtype=float, usecols=['Tesla', 'Apple', 'Nvidia', 'Amazon', 'Microsoft', 'Electronic Arts'])"
   ]
  },
  {
   "cell_type": "code",
   "execution_count": 3,
   "id": "3b20793b-c353-459c-8e85-5f7fc3bab43e",
   "metadata": {},
   "outputs": [
    {
     "data": {
      "application/vnd.jupyter.widget-view+json": {
       "model_id": "08a6e327ae1b41c796367e6a8aa31935",
       "version_major": 2,
       "version_minor": 0
      },
      "text/plain": [
       "interactive(children=(Select(description='stockType', options=('Tesla', 'Apple', 'Nvidia', 'Amazon', 'Microsof…"
      ]
     },
     "metadata": {},
     "output_type": "display_data"
    }
   ],
   "source": [
    "t = 250\n",
    "def interest(t, A, r):\n",
    "    return A*np.exp(r*t)\n",
    "\n",
    "def stocks(stockType):\n",
    "    fig, ax = plt.subplots(figsize = (10, 5))\n",
    "    \n",
    "\n",
    "    \n",
    "    x = np.arange(0, 250, 1)\n",
    "    popt, pcov = curve_fit(interest, x, df[stockType], p0=(700, 0.001), bounds=([0, 0], [np.inf, np.inf]))\n",
    "    daysFit = np.linspace(0, t - 1, 300)\n",
    "    pricesFit = interest(daysFit, *popt)\n",
    "\n",
    "    initial = popt[0]\n",
    "    rate = popt[1]\n",
    "    \n",
    "    ax.plot(x, df[stockType], color = 'darkolivegreen')\n",
    "    \n",
    "    ax.plot(daysFit, pricesFit, color = 'purple')\n",
    "\n",
    "    ax.set_xlabel('Time (From March 2024 - March 2025)', fontname = 'Times New Roman', fontsize = 12)\n",
    "    ax.set_ylabel('Stock Value', fontname = 'Times New Roman', fontsize = 12)\n",
    "    ax.grid()\n",
    "    ax.set_title(f'The approximated growth rate over time is: {round(100*(rate), 2)}%', fontname = 'Times New Roman', fontsize = 12)\n",
    "    \n",
    "select = widgets.Select(options = ['Tesla', 'Apple', 'Nvidia', 'Amazon', 'Microsoft', 'Electronic Arts'])\n",
    "interactivePlot = interactive(stocks, stockType = select)\n",
    "display(interactivePlot)"
   ]
  },
  {
   "cell_type": "markdown",
   "id": "4e2c1655-9622-449d-b8df-dc2f3c0e6bff",
   "metadata": {},
   "source": [
    "## Stock Performance Analysis\n",
    "#### Calculate the 75th percentile of the 7 day log returns"
   ]
  },
  {
   "cell_type": "markdown",
   "id": "48bda86a-f8e1-4808-9f25-88d51cea7edb",
   "metadata": {},
   "source": [
    "Log returns are commonly used in finance because they are more accurate for compounding and are additive over time. In this part of the analysis We focused on analyzing the performance of each stock over short-term periods using logarithmic returns.\n",
    "\n",
    "$$\n",
    "\\text{Log Return}_t = \\ln\\left(\\frac{P_t}{P_{t-1}}\\right)\n",
    "$$\n",
    "\n",
    "This formula calculates the continuously compounded return from one day to the next.\n",
    "\n",
    "**First:** We use the daily log return, which measures the percent change in stock price from one day to the next using natural logarithms"
   ]
  },
  {
   "cell_type": "markdown",
   "id": "b108e2ba-8c54-40ea-861d-cd4f8a062a38",
   "metadata": {},
   "source": [
    "**Second:** We calculated 7-day rolling log returns, which means we looked at the total return over every 7-day period. This helps capture weekly performance trends.\n",
    "\n",
    "$$\n",
    "\\text{7-Day Log Return}_t = \\sum_{i=0}^{6} \\ln\\left(\\frac{P_{t-i}}{P_{t-i-1}}\\right)\n",
    "$$\n",
    "\n",
    "- This adds up 7 consecutive daily log returns, giving the total log return for the week ending on day \\( t \\).\n",
    "- \\( i \\): Index for each day in the 7-day window\n",
    "- The summation runs from \\( t-6 \\) to \\( t \\)\n",
    "\n",
    "This approach is exactly what `rolling(window=7).sum()` does in our code. It creates a rolling window object that slides a 7 row window across the data, on row at the time. At each step, it captures the current value and the previous values (total of 7). Then it apply th sum() operation to that window."
   ]
  },
  {
   "cell_type": "markdown",
   "id": "5da90ecf",
   "metadata": {},
   "source": [
    "#### **Simplified Formula**\n",
    "$$\n",
    "\\text{7-Day Log Return}_t = \\ln\\left(\\frac{P_t}{P_{t-7}}\\right)\n",
    "$$\n",
    "\n",
    "\n",
    "- This simplified formula gives the same result as summing 7 daily log returns.\n",
    "- It uses only the price at the start and end of the 7-day period.\n",
    "\n",
    "This version tells you the total percentage return (in log terms) between day \\( t-7 \\) and day \\( t \\)."
   ]
  },
  {
   "cell_type": "markdown",
   "id": "d6b68f12",
   "metadata": {},
   "source": [
    "**Finally:** We calculated the 75th percentile of these 7-day log returns for each stock. This tells us what a “strong performance week” looks like — the return that a stock exceeded only 25% of the time."
   ]
  },
  {
   "cell_type": "code",
   "execution_count": 4,
   "id": "f8a1921b",
   "metadata": {},
   "outputs": [
    {
     "data": {
      "text/html": [
       "<div>\n",
       "<style scoped>\n",
       "    .dataframe tbody tr th:only-of-type {\n",
       "        vertical-align: middle;\n",
       "    }\n",
       "\n",
       "    .dataframe tbody tr th {\n",
       "        vertical-align: top;\n",
       "    }\n",
       "\n",
       "    .dataframe thead th {\n",
       "        text-align: right;\n",
       "    }\n",
       "</style>\n",
       "<table border=\"1\" class=\"dataframe\">\n",
       "  <thead>\n",
       "    <tr style=\"text-align: right;\">\n",
       "      <th></th>\n",
       "      <th>Tesla</th>\n",
       "      <th>Apple</th>\n",
       "      <th>Nvidia</th>\n",
       "      <th>Amazon</th>\n",
       "      <th>Microsoft</th>\n",
       "      <th>Electronic Arts</th>\n",
       "    </tr>\n",
       "  </thead>\n",
       "  <tbody>\n",
       "    <tr>\n",
       "      <th>0</th>\n",
       "      <td>NaN</td>\n",
       "      <td>NaN</td>\n",
       "      <td>NaN</td>\n",
       "      <td>NaN</td>\n",
       "      <td>NaN</td>\n",
       "      <td>NaN</td>\n",
       "    </tr>\n",
       "    <tr>\n",
       "      <th>1</th>\n",
       "      <td>0.000027</td>\n",
       "      <td>-0.006695</td>\n",
       "      <td>-0.026020</td>\n",
       "      <td>-0.007877</td>\n",
       "      <td>-0.002866</td>\n",
       "      <td>0.002907</td>\n",
       "    </tr>\n",
       "    <tr>\n",
       "      <th>2</th>\n",
       "      <td>0.001504</td>\n",
       "      <td>0.020991</td>\n",
       "      <td>-0.025273</td>\n",
       "      <td>0.008544</td>\n",
       "      <td>-0.000522</td>\n",
       "      <td>0.007383</td>\n",
       "    </tr>\n",
       "    <tr>\n",
       "      <th>3</th>\n",
       "      <td>0.000751</td>\n",
       "      <td>-0.010615</td>\n",
       "      <td>0.001218</td>\n",
       "      <td>0.003054</td>\n",
       "      <td>-0.001686</td>\n",
       "      <td>0.006048</td>\n",
       "    </tr>\n",
       "    <tr>\n",
       "      <th>4</th>\n",
       "      <td>-0.015669</td>\n",
       "      <td>-0.008492</td>\n",
       "      <td>0.000000</td>\n",
       "      <td>0.003266</td>\n",
       "      <td>0.009109</td>\n",
       "      <td>0.005037</td>\n",
       "    </tr>\n",
       "    <tr>\n",
       "      <th>...</th>\n",
       "      <td>...</td>\n",
       "      <td>...</td>\n",
       "      <td>...</td>\n",
       "      <td>...</td>\n",
       "      <td>...</td>\n",
       "      <td>...</td>\n",
       "    </tr>\n",
       "    <tr>\n",
       "      <th>245</th>\n",
       "      <td>-0.020456</td>\n",
       "      <td>-0.006140</td>\n",
       "      <td>-0.034903</td>\n",
       "      <td>-0.015030</td>\n",
       "      <td>-0.013416</td>\n",
       "      <td>-0.007234</td>\n",
       "    </tr>\n",
       "    <tr>\n",
       "      <th>246</th>\n",
       "      <td>0.006659</td>\n",
       "      <td>0.011918</td>\n",
       "      <td>0.017944</td>\n",
       "      <td>0.014008</td>\n",
       "      <td>0.011150</td>\n",
       "      <td>0.000705</td>\n",
       "    </tr>\n",
       "    <tr>\n",
       "      <th>247</th>\n",
       "      <td>-0.009614</td>\n",
       "      <td>-0.005310</td>\n",
       "      <td>0.008558</td>\n",
       "      <td>-0.003022</td>\n",
       "      <td>-0.002530</td>\n",
       "      <td>0.008976</td>\n",
       "    </tr>\n",
       "    <tr>\n",
       "      <th>248</th>\n",
       "      <td>0.015361</td>\n",
       "      <td>0.019290</td>\n",
       "      <td>-0.007027</td>\n",
       "      <td>0.006442</td>\n",
       "      <td>0.011361</td>\n",
       "      <td>0.007303</td>\n",
       "    </tr>\n",
       "    <tr>\n",
       "      <th>249</th>\n",
       "      <td>0.014218</td>\n",
       "      <td>0.006211</td>\n",
       "      <td>0.034159</td>\n",
       "      <td>0.030171</td>\n",
       "      <td>0.001787</td>\n",
       "      <td>-0.000139</td>\n",
       "    </tr>\n",
       "  </tbody>\n",
       "</table>\n",
       "<p>250 rows × 6 columns</p>\n",
       "</div>"
      ],
      "text/plain": [
       "        Tesla     Apple    Nvidia    Amazon  Microsoft  Electronic Arts\n",
       "0         NaN       NaN       NaN       NaN        NaN              NaN\n",
       "1    0.000027 -0.006695 -0.026020 -0.007877  -0.002866         0.002907\n",
       "2    0.001504  0.020991 -0.025273  0.008544  -0.000522         0.007383\n",
       "3    0.000751 -0.010615  0.001218  0.003054  -0.001686         0.006048\n",
       "4   -0.015669 -0.008492  0.000000  0.003266   0.009109         0.005037\n",
       "..        ...       ...       ...       ...        ...              ...\n",
       "245 -0.020456 -0.006140 -0.034903 -0.015030  -0.013416        -0.007234\n",
       "246  0.006659  0.011918  0.017944  0.014008   0.011150         0.000705\n",
       "247 -0.009614 -0.005310  0.008558 -0.003022  -0.002530         0.008976\n",
       "248  0.015361  0.019290 -0.007027  0.006442   0.011361         0.007303\n",
       "249  0.014218  0.006211  0.034159  0.030171   0.001787        -0.000139\n",
       "\n",
       "[250 rows x 6 columns]"
      ]
     },
     "execution_count": 4,
     "metadata": {},
     "output_type": "execute_result"
    }
   ],
   "source": [
    "# Calculate the daily log return\n",
    "logReturn = np.log(df / df.shift(1))\n",
    "logReturn"
   ]
  },
  {
   "cell_type": "code",
   "execution_count": 5,
   "id": "3ca88bc2",
   "metadata": {},
   "outputs": [
    {
     "data": {
      "text/html": [
       "<div>\n",
       "<style scoped>\n",
       "    .dataframe tbody tr th:only-of-type {\n",
       "        vertical-align: middle;\n",
       "    }\n",
       "\n",
       "    .dataframe tbody tr th {\n",
       "        vertical-align: top;\n",
       "    }\n",
       "\n",
       "    .dataframe thead th {\n",
       "        text-align: right;\n",
       "    }\n",
       "</style>\n",
       "<table border=\"1\" class=\"dataframe\">\n",
       "  <thead>\n",
       "    <tr style=\"text-align: right;\">\n",
       "      <th></th>\n",
       "      <th>Tesla</th>\n",
       "      <th>Apple</th>\n",
       "      <th>Nvidia</th>\n",
       "      <th>Amazon</th>\n",
       "      <th>Microsoft</th>\n",
       "      <th>Electronic Arts</th>\n",
       "    </tr>\n",
       "  </thead>\n",
       "  <tbody>\n",
       "    <tr>\n",
       "      <th>0</th>\n",
       "      <td>NaN</td>\n",
       "      <td>NaN</td>\n",
       "      <td>NaN</td>\n",
       "      <td>NaN</td>\n",
       "      <td>NaN</td>\n",
       "      <td>NaN</td>\n",
       "    </tr>\n",
       "    <tr>\n",
       "      <th>1</th>\n",
       "      <td>NaN</td>\n",
       "      <td>NaN</td>\n",
       "      <td>NaN</td>\n",
       "      <td>NaN</td>\n",
       "      <td>NaN</td>\n",
       "      <td>NaN</td>\n",
       "    </tr>\n",
       "    <tr>\n",
       "      <th>2</th>\n",
       "      <td>NaN</td>\n",
       "      <td>NaN</td>\n",
       "      <td>NaN</td>\n",
       "      <td>NaN</td>\n",
       "      <td>NaN</td>\n",
       "      <td>NaN</td>\n",
       "    </tr>\n",
       "    <tr>\n",
       "      <th>3</th>\n",
       "      <td>NaN</td>\n",
       "      <td>NaN</td>\n",
       "      <td>NaN</td>\n",
       "      <td>NaN</td>\n",
       "      <td>NaN</td>\n",
       "      <td>NaN</td>\n",
       "    </tr>\n",
       "    <tr>\n",
       "      <th>4</th>\n",
       "      <td>NaN</td>\n",
       "      <td>NaN</td>\n",
       "      <td>NaN</td>\n",
       "      <td>NaN</td>\n",
       "      <td>NaN</td>\n",
       "      <td>NaN</td>\n",
       "    </tr>\n",
       "    <tr>\n",
       "      <th>...</th>\n",
       "      <td>...</td>\n",
       "      <td>...</td>\n",
       "      <td>...</td>\n",
       "      <td>...</td>\n",
       "      <td>...</td>\n",
       "      <td>...</td>\n",
       "    </tr>\n",
       "    <tr>\n",
       "      <th>245</th>\n",
       "      <td>-0.071187</td>\n",
       "      <td>-0.116921</td>\n",
       "      <td>0.024024</td>\n",
       "      <td>-0.032803</td>\n",
       "      <td>-0.025206</td>\n",
       "      <td>0.012983</td>\n",
       "    </tr>\n",
       "    <tr>\n",
       "      <th>246</th>\n",
       "      <td>-0.033031</td>\n",
       "      <td>-0.055309</td>\n",
       "      <td>0.093967</td>\n",
       "      <td>0.005127</td>\n",
       "      <td>0.019949</td>\n",
       "      <td>0.010907</td>\n",
       "    </tr>\n",
       "    <tr>\n",
       "      <th>247</th>\n",
       "      <td>-0.038441</td>\n",
       "      <td>-0.030995</td>\n",
       "      <td>0.086022</td>\n",
       "      <td>-0.008377</td>\n",
       "      <td>0.016656</td>\n",
       "      <td>0.038208</td>\n",
       "    </tr>\n",
       "    <tr>\n",
       "      <th>248</th>\n",
       "      <td>-0.019409</td>\n",
       "      <td>0.005928</td>\n",
       "      <td>0.016793</td>\n",
       "      <td>-0.013566</td>\n",
       "      <td>0.020633</td>\n",
       "      <td>0.058358</td>\n",
       "    </tr>\n",
       "    <tr>\n",
       "      <th>249</th>\n",
       "      <td>0.034931</td>\n",
       "      <td>0.046362</td>\n",
       "      <td>0.052335</td>\n",
       "      <td>0.042065</td>\n",
       "      <td>0.034231</td>\n",
       "      <td>0.046533</td>\n",
       "    </tr>\n",
       "  </tbody>\n",
       "</table>\n",
       "<p>250 rows × 6 columns</p>\n",
       "</div>"
      ],
      "text/plain": [
       "        Tesla     Apple    Nvidia    Amazon  Microsoft  Electronic Arts\n",
       "0         NaN       NaN       NaN       NaN        NaN              NaN\n",
       "1         NaN       NaN       NaN       NaN        NaN              NaN\n",
       "2         NaN       NaN       NaN       NaN        NaN              NaN\n",
       "3         NaN       NaN       NaN       NaN        NaN              NaN\n",
       "4         NaN       NaN       NaN       NaN        NaN              NaN\n",
       "..        ...       ...       ...       ...        ...              ...\n",
       "245 -0.071187 -0.116921  0.024024 -0.032803  -0.025206         0.012983\n",
       "246 -0.033031 -0.055309  0.093967  0.005127   0.019949         0.010907\n",
       "247 -0.038441 -0.030995  0.086022 -0.008377   0.016656         0.038208\n",
       "248 -0.019409  0.005928  0.016793 -0.013566   0.020633         0.058358\n",
       "249  0.034931  0.046362  0.052335  0.042065   0.034231         0.046533\n",
       "\n",
       "[250 rows x 6 columns]"
      ]
     },
     "execution_count": 5,
     "metadata": {},
     "output_type": "execute_result"
    }
   ],
   "source": [
    "# Calculate 7-day rolling log return sums\n",
    "logReturn7d = logReturn.rolling(window=7).sum()\n",
    "logReturn7d"
   ]
  },
  {
   "cell_type": "markdown",
   "id": "64e2a16e",
   "metadata": {},
   "source": [
    "The first row of daily log returns is NaN because there is no previous day to compare against.\n",
    "The first 6 rows of 7-day log returns are also NaN because we need a full 7-day window before a valid result can be calculated."
   ]
  },
  {
   "cell_type": "code",
   "execution_count": 6,
   "id": "4d0e3a1f",
   "metadata": {},
   "outputs": [
    {
     "data": {
      "text/plain": [
       "Tesla              0.028597\n",
       "Apple              0.038199\n",
       "Nvidia             0.064618\n",
       "Amazon             0.037883\n",
       "Microsoft          0.024154\n",
       "Electronic Arts    0.025868\n",
       "Name: 0.75, dtype: float64"
      ]
     },
     "execution_count": 6,
     "metadata": {},
     "output_type": "execute_result"
    }
   ],
   "source": [
    "# Calculate the 75th percentile for each stock\n",
    "percentile_75 = logReturn7d.quantile(0.75)\n",
    "percentile_75"
   ]
  },
  {
   "cell_type": "code",
   "execution_count": null,
   "id": "4b07c084",
   "metadata": {},
   "outputs": [
    {
     "data": {
      "image/png": "[encoded data removed]",
      "text/plain": [
       "<Figure size 1000x600 with 1 Axes>"
      ]
     },
     "metadata": {},
     "output_type": "display_data"
    }
   ],
   "source": [
    "# Plotting the 75th Percentile\n",
    "plt.figure(figsize=(10, 6))\n",
    "plt.bar(percentile_75.index, percentile_75.values, color='orange')\n",
    "plt.title('7 Day Rolling Log Returns by Stocks')\n",
    "plt.ylabel('Log Return')\n",
    "plt.xlabel('Stock')\n",
    "plt.grid()"
   ]
  },
  {
   "cell_type": "markdown",
   "id": "d1b2d483",
   "metadata": {},
   "source": [
    "**Observation:** Nvidia had the highest 75th percentile among the stocks, meaning that during its better weeks, it tended to outperform the others. This suggests Nvidia had more aggressive growth in high-return weeks compared to other companies in the dataset."
   ]
  },
  {
   "cell_type": "code",
   "execution_count": null,
   "id": "eca8ea10",
   "metadata": {},
   "outputs": [],
   "source": []
  }
 ],
 "metadata": {
  "kernelspec": {
   "display_name": "base",
   "language": "python",
   "name": "python3"
  },
  "language_info": {
   "codemirror_mode": {
    "name": "ipython",
    "version": 3
   },
   "file_extension": ".py",
   "mimetype": "text/x-python",
   "name": "python",
   "nbconvert_exporter": "python",
   "pygments_lexer": "ipython3",
   "version": "undefined.undefined.undefined"
  }
 },
 "nbformat": 4,
 "nbformat_minor": 5
}
